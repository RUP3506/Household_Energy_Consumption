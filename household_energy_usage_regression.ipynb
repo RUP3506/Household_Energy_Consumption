{
 "cells": [
  {
   "cell_type": "markdown",
   "id": "00367d99",
   "metadata": {},
   "source": [
    "#### About the dataset :"
   ]
  },
  {
   "cell_type": "markdown",
   "id": "325d9521",
   "metadata": {},
   "source": [
    "#### This dataset (household_energy_usage_regression.csv) contains energy consumption and weather-related info for a household over several months. Variables include -\n",
    "* datetime: month, day, year and hour for each kwh reading\n",
    "* kwh: energy consumption in kilowatts-hours\n",
    "* temperatureF: Fahrenheit\n",
    "* temperatureC: Celsius \n",
    "* humidity: percent relative humidity\n",
    "* dewpointC: dew point in Celsiu"
   ]
  },
  {
   "cell_type": "markdown",
   "id": "9f3c462f",
   "metadata": {},
   "source": [
    "#### Problem Statement :\n",
    "* The goal is to predict household energy consumption, kwh dependent variable, using Ordinary Least Squares (OLS) linear regression."
   ]
  },
  {
   "cell_type": "markdown",
   "id": "cee990ef",
   "metadata": {},
   "source": [
    "#### Challenges :\n",
    "* Linear regression can be sensitive to outliers, which can disproportionately influence the model\n",
    "* Linear regression is a parametric method that assumes a linear relationship between the independent variables and the dependent variable.\n",
    "* It fails to capture complex relationships between variables."
   ]
  },
  {
   "cell_type": "code",
   "execution_count": 63,
   "id": "2472271e",
   "metadata": {},
   "outputs": [],
   "source": [
    "# Import necessary libraries\n",
    "import warnings\n",
    "import numpy as np\n",
    "import pandas as pd\n",
    "import seaborn as sns\n",
    "import matplotlib.pyplot as plt\n",
    "\n",
    "warnings.filterwarnings(\"ignore\")\n",
    "from sklearn.linear_model import LinearRegression\n",
    "from sklearn.model_selection import train_test_split\n",
    "from sklearn.metrics import mean_absolute_error, r2_score"
   ]
  },
  {
   "cell_type": "markdown",
   "id": "13f62210",
   "metadata": {},
   "source": [
    "## A. Data Collection ----------------------------------------------"
   ]
  },
  {
   "cell_type": "code",
   "execution_count": 32,
   "id": "65cb3a6a",
   "metadata": {},
   "outputs": [],
   "source": [
    "# Load the data \n",
    "df = pd.read_csv('household_energy_usage_regression.csv')"
   ]
  },
  {
   "cell_type": "code",
   "execution_count": 33,
   "id": "ba37a78c",
   "metadata": {},
   "outputs": [
    {
     "data": {
      "text/html": [
       "<div>\n",
       "<style scoped>\n",
       "    .dataframe tbody tr th:only-of-type {\n",
       "        vertical-align: middle;\n",
       "    }\n",
       "\n",
       "    .dataframe tbody tr th {\n",
       "        vertical-align: top;\n",
       "    }\n",
       "\n",
       "    .dataframe thead th {\n",
       "        text-align: right;\n",
       "    }\n",
       "</style>\n",
       "<table border=\"1\" class=\"dataframe\">\n",
       "  <thead>\n",
       "    <tr style=\"text-align: right;\">\n",
       "      <th></th>\n",
       "      <th>datetime</th>\n",
       "      <th>kwh</th>\n",
       "      <th>temperatureF</th>\n",
       "      <th>temperatureC</th>\n",
       "      <th>humidity</th>\n",
       "      <th>dewpointC</th>\n",
       "    </tr>\n",
       "  </thead>\n",
       "  <tbody>\n",
       "    <tr>\n",
       "      <th>0</th>\n",
       "      <td>2019-09-26 0:00:00</td>\n",
       "      <td>1.6247</td>\n",
       "      <td>75.89</td>\n",
       "      <td>24.383333</td>\n",
       "      <td>0.78</td>\n",
       "      <td>4.539333</td>\n",
       "    </tr>\n",
       "    <tr>\n",
       "      <th>1</th>\n",
       "      <td>2019-09-26 1:00:00</td>\n",
       "      <td>2.6749</td>\n",
       "      <td>75.08</td>\n",
       "      <td>23.933333</td>\n",
       "      <td>0.81</td>\n",
       "      <td>4.095333</td>\n",
       "    </tr>\n",
       "    <tr>\n",
       "      <th>2</th>\n",
       "      <td>2019-09-26 2:00:00</td>\n",
       "      <td>1.6013</td>\n",
       "      <td>74.43</td>\n",
       "      <td>23.572222</td>\n",
       "      <td>0.83</td>\n",
       "      <td>3.738222</td>\n",
       "    </tr>\n",
       "    <tr>\n",
       "      <th>3</th>\n",
       "      <td>2019-09-26 3:00:00</td>\n",
       "      <td>1.6093</td>\n",
       "      <td>73.84</td>\n",
       "      <td>23.244444</td>\n",
       "      <td>0.84</td>\n",
       "      <td>3.412444</td>\n",
       "    </tr>\n",
       "    <tr>\n",
       "      <th>4</th>\n",
       "      <td>2019-09-26 4:00:00</td>\n",
       "      <td>1.5653</td>\n",
       "      <td>73.35</td>\n",
       "      <td>22.972222</td>\n",
       "      <td>0.85</td>\n",
       "      <td>3.142222</td>\n",
       "    </tr>\n",
       "  </tbody>\n",
       "</table>\n",
       "</div>"
      ],
      "text/plain": [
       "             datetime     kwh  temperatureF  temperatureC  humidity  dewpointC\n",
       "0  2019-09-26 0:00:00  1.6247         75.89     24.383333      0.78   4.539333\n",
       "1  2019-09-26 1:00:00  2.6749         75.08     23.933333      0.81   4.095333\n",
       "2  2019-09-26 2:00:00  1.6013         74.43     23.572222      0.83   3.738222\n",
       "3  2019-09-26 3:00:00  1.6093         73.84     23.244444      0.84   3.412444\n",
       "4  2019-09-26 4:00:00  1.5653         73.35     22.972222      0.85   3.142222"
      ]
     },
     "execution_count": 33,
     "metadata": {},
     "output_type": "execute_result"
    }
   ],
   "source": [
    "df.head()"
   ]
  },
  {
   "cell_type": "markdown",
   "id": "88993c40",
   "metadata": {},
   "source": [
    "## B. Data Preprocessing --------------------------------------------"
   ]
  },
  {
   "cell_type": "markdown",
   "id": "750ff83e",
   "metadata": {},
   "source": [
    "### 1. Data Cleaning "
   ]
  },
  {
   "cell_type": "code",
   "execution_count": 34,
   "id": "40d7a90a",
   "metadata": {},
   "outputs": [
    {
     "name": "stdout",
     "output_type": "stream",
     "text": [
      "Total columns 6\n",
      "Columns are : Index(['datetime', 'kwh', 'temperatureF', 'temperatureC', 'humidity',\n",
      "       'dewpointC'],\n",
      "      dtype='object')\n"
     ]
    }
   ],
   "source": [
    "print(f\"Total columns {len(df.columns)}\")\n",
    "\n",
    "print(f\"Columns are : {df.columns}\")"
   ]
  },
  {
   "cell_type": "code",
   "execution_count": 35,
   "id": "35820b02",
   "metadata": {},
   "outputs": [
    {
     "name": "stdout",
     "output_type": "stream",
     "text": [
      "Duplicate values in the dataset are : \n",
      "False    10055\n",
      "dtype: int64\n"
     ]
    }
   ],
   "source": [
    "print(f\"Duplicate values in the dataset are : \\n{df.duplicated().value_counts()}\")"
   ]
  },
  {
   "cell_type": "markdown",
   "id": "c6fe8499",
   "metadata": {},
   "source": [
    "* Dataset has 0 Duplicate values"
   ]
  },
  {
   "cell_type": "code",
   "execution_count": 36,
   "id": "6a059c4d",
   "metadata": {},
   "outputs": [
    {
     "name": "stdout",
     "output_type": "stream",
     "text": [
      "<class 'pandas.core.frame.DataFrame'>\n",
      "RangeIndex: 10055 entries, 0 to 10054\n",
      "Data columns (total 6 columns):\n",
      " #   Column        Non-Null Count  Dtype  \n",
      "---  ------        --------------  -----  \n",
      " 0   datetime      10055 non-null  object \n",
      " 1   kwh           10055 non-null  float64\n",
      " 2   temperatureF  9969 non-null   float64\n",
      " 3   temperatureC  9969 non-null   float64\n",
      " 4   humidity      9969 non-null   float64\n",
      " 5   dewpointC     9969 non-null   float64\n",
      "dtypes: float64(5), object(1)\n",
      "memory usage: 471.5+ KB\n"
     ]
    }
   ],
   "source": [
    "# checking the datatype of each column and the count of non_null values in each column\n",
    "df.info()"
   ]
  },
  {
   "cell_type": "code",
   "execution_count": 37,
   "id": "b8c4af56",
   "metadata": {},
   "outputs": [
    {
     "data": {
      "text/plain": [
       "<AxesSubplot:>"
      ]
     },
     "execution_count": 37,
     "metadata": {},
     "output_type": "execute_result"
    },
    {
     "data": {
      "image/png": "[encoded data removed]",
      "text/plain": [
       "<Figure size 432x288 with 2 Axes>"
      ]
     },
     "metadata": {
      "needs_background": "light"
     },
     "output_type": "display_data"
    }
   ],
   "source": [
    "# checking for null values using heatmap\n",
    "sns.heatmap(df.isnull())"
   ]
  },
  {
   "cell_type": "markdown",
   "id": "bc1f96ed",
   "metadata": {},
   "source": [
    "* From the heatmap we can say that the dataset has some null values now let's findout how many null values are present in the dataset "
   ]
  },
  {
   "cell_type": "code",
   "execution_count": 38,
   "id": "b2d47919",
   "metadata": {},
   "outputs": [
    {
     "data": {
      "text/plain": [
       "datetime         0\n",
       "kwh              0\n",
       "temperatureF    86\n",
       "temperatureC    86\n",
       "humidity        86\n",
       "dewpointC       86\n",
       "dtype: int64"
      ]
     },
     "execution_count": 38,
     "metadata": {},
     "output_type": "execute_result"
    }
   ],
   "source": [
    "# checking the number of null values\n",
    "df.isna().sum()"
   ]
  },
  {
   "cell_type": "markdown",
   "id": "ee8ca7ff",
   "metadata": {},
   "source": [
    "* We have some null values but the dataset has 10k rows , so if we remove those NaN values this will not harm our model performance. So we will remove those NaN values using dropna()"
   ]
  },
  {
   "cell_type": "code",
   "execution_count": 39,
   "id": "f37afb2c",
   "metadata": {},
   "outputs": [],
   "source": [
    "# removing the nan values\n",
    "df.dropna(inplace=True)"
   ]
  },
  {
   "cell_type": "markdown",
   "id": "5dfd060b",
   "metadata": {},
   "source": [
    "### 2. Exploratory Data Analysis (EDA)"
   ]
  },
  {
   "cell_type": "code",
   "execution_count": 40,
   "id": "683bdce8",
   "metadata": {},
   "outputs": [
    {
     "name": "stdout",
     "output_type": "stream",
     "text": [
      "               kwh  temperatureF  temperatureC     humidity    dewpointC\n",
      "count  9969.000000   9969.000000   9969.000000  9969.000000  9969.000000\n",
      "mean      1.971046     77.794110     25.441172     0.777043     5.596581\n",
      "std       1.121946      7.830298      4.350165     0.138310     4.340707\n",
      "min       0.286300     38.930000      3.850000     0.220000   -16.014000\n",
      "25%       1.121700     74.020000     23.344444     0.680000     3.502889\n",
      "50%       1.822200     78.230000     25.683333     0.800000     5.850889\n",
      "75%       2.716500     82.890000     28.272222     0.890000     8.418000\n",
      "max       7.637700     95.940000     35.522222     1.000000    15.612222\n"
     ]
    },
    {
     "data": {
      "image/png": "[encoded data removed]",
      "text/plain": [
       "<Figure size 432x288 with 1 Axes>"
      ]
     },
     "metadata": {
      "needs_background": "light"
     },
     "output_type": "display_data"
    },
    {
     "data": {
      "image/png": "[encoded data removed]",
      "text/plain": [
       "<Figure size 432x288 with 1 Axes>"
      ]
     },
     "metadata": {
      "needs_background": "light"
     },
     "output_type": "display_data"
    }
   ],
   "source": [
    "# Basic statistics\n",
    "print(df.describe())\n",
    "\n",
    "# Visualize distributions\n",
    "sns.histplot(df['kwh'], bins=20)\n",
    "plt.show()\n",
    "\n",
    "# Explore relationships with scatter plots\n",
    "sns.scatterplot(x='temperatureC', y='kwh', data=df)\n",
    "plt.show()"
   ]
  },
  {
   "cell_type": "markdown",
   "id": "d88b4211",
   "metadata": {},
   "source": [
    "* From the histplot we can say te distribution is right skewed ,It indicates that there are observations at one of the extreme ends of the distribution, but that they’re relatively infrequent\n",
    "\n",
    "\n",
    "* From the scatter plot we can say that kwh is more for higher temperature.  "
   ]
  },
  {
   "cell_type": "markdown",
   "id": "a583f733",
   "metadata": {},
   "source": [
    "### 3.  Data Transformation "
   ]
  },
  {
   "cell_type": "code",
   "execution_count": 44,
   "id": "bd0a1876",
   "metadata": {},
   "outputs": [
    {
     "data": {
      "text/html": [
       "<div>\n",
       "<style scoped>\n",
       "    .dataframe tbody tr th:only-of-type {\n",
       "        vertical-align: middle;\n",
       "    }\n",
       "\n",
       "    .dataframe tbody tr th {\n",
       "        vertical-align: top;\n",
       "    }\n",
       "\n",
       "    .dataframe thead th {\n",
       "        text-align: right;\n",
       "    }\n",
       "</style>\n",
       "<table border=\"1\" class=\"dataframe\">\n",
       "  <thead>\n",
       "    <tr style=\"text-align: right;\">\n",
       "      <th></th>\n",
       "      <th>datetime</th>\n",
       "      <th>kwh</th>\n",
       "      <th>temperatureF</th>\n",
       "      <th>temperatureC</th>\n",
       "      <th>humidity</th>\n",
       "      <th>dewpointC</th>\n",
       "    </tr>\n",
       "  </thead>\n",
       "  <tbody>\n",
       "    <tr>\n",
       "      <th>0</th>\n",
       "      <td>2019-09-26 0:00:00</td>\n",
       "      <td>1.6247</td>\n",
       "      <td>-0.243184</td>\n",
       "      <td>-0.243184</td>\n",
       "      <td>0.021382</td>\n",
       "      <td>-0.243578</td>\n",
       "    </tr>\n",
       "    <tr>\n",
       "      <th>1</th>\n",
       "      <td>2019-09-26 1:00:00</td>\n",
       "      <td>2.6749</td>\n",
       "      <td>-0.346634</td>\n",
       "      <td>-0.346634</td>\n",
       "      <td>0.238297</td>\n",
       "      <td>-0.345871</td>\n",
       "    </tr>\n",
       "    <tr>\n",
       "      <th>2</th>\n",
       "      <td>2019-09-26 2:00:00</td>\n",
       "      <td>1.6013</td>\n",
       "      <td>-0.429649</td>\n",
       "      <td>-0.429649</td>\n",
       "      <td>0.382907</td>\n",
       "      <td>-0.428145</td>\n",
       "    </tr>\n",
       "    <tr>\n",
       "      <th>3</th>\n",
       "      <td>2019-09-26 3:00:00</td>\n",
       "      <td>1.6093</td>\n",
       "      <td>-0.505001</td>\n",
       "      <td>-0.505001</td>\n",
       "      <td>0.455212</td>\n",
       "      <td>-0.503200</td>\n",
       "    </tr>\n",
       "    <tr>\n",
       "      <th>4</th>\n",
       "      <td>2019-09-26 4:00:00</td>\n",
       "      <td>1.5653</td>\n",
       "      <td>-0.567582</td>\n",
       "      <td>-0.567582</td>\n",
       "      <td>0.527517</td>\n",
       "      <td>-0.565457</td>\n",
       "    </tr>\n",
       "  </tbody>\n",
       "</table>\n",
       "</div>"
      ],
      "text/plain": [
       "             datetime     kwh  temperatureF  temperatureC  humidity  dewpointC\n",
       "0  2019-09-26 0:00:00  1.6247     -0.243184     -0.243184  0.021382  -0.243578\n",
       "1  2019-09-26 1:00:00  2.6749     -0.346634     -0.346634  0.238297  -0.345871\n",
       "2  2019-09-26 2:00:00  1.6013     -0.429649     -0.429649  0.382907  -0.428145\n",
       "3  2019-09-26 3:00:00  1.6093     -0.505001     -0.505001  0.455212  -0.503200\n",
       "4  2019-09-26 4:00:00  1.5653     -0.567582     -0.567582  0.527517  -0.565457"
      ]
     },
     "execution_count": 44,
     "metadata": {},
     "output_type": "execute_result"
    }
   ],
   "source": [
    "#  Feature Scaling : Using StandardScaler \n",
    "from sklearn.preprocessing import StandardScaler\n",
    "\n",
    "scaler = StandardScaler()\n",
    "\n",
    "def scale_sts(df):\n",
    "    scaler = StandardScaler()\n",
    "    df = scaler.fit_transform(df.values.reshape(-1,1))\n",
    "    return df\n",
    "for i in df.columns[2:]:\n",
    "    if len(df[i].unique()) > 1:\n",
    "        df[i] = scale_sts(df[i])\n",
    "    else :\n",
    "        continue\n",
    "df.head()"
   ]
  },
  {
   "cell_type": "markdown",
   "id": "e97cf5a8",
   "metadata": {},
   "source": [
    "### 4. Feature Selection"
   ]
  },
  {
   "cell_type": "code",
   "execution_count": 45,
   "id": "ad6afd7a",
   "metadata": {},
   "outputs": [
    {
     "data": {
      "image/png": "[encoded data removed]",
      "text/plain": [
       "<Figure size 432x288 with 2 Axes>"
      ]
     },
     "metadata": {
      "needs_background": "light"
     },
     "output_type": "display_data"
    }
   ],
   "source": [
    "# Identify potential features\n",
    "# here  temperature in Celsius and Fahrenheit are same thats why we are taking only one\n",
    "features = ['temperatureC', 'humidity', 'dewpointC']\n",
    "\n",
    "# Assess correlation\n",
    "correlation_matrix = df[features + ['kwh']].corr()\n",
    "sns.heatmap(correlation_matrix, annot=True, cmap='coolwarm')\n",
    "plt.show()"
   ]
  },
  {
   "cell_type": "markdown",
   "id": "2ff4a5f0",
   "metadata": {},
   "source": [
    "* Correlation analysis provides insights into the strength and direction of the linear relationship between two variables. \n",
    "* Here temperatureC and dewpointC are positively correlated with Kwh and humidity is negatively correlated with kwh"
   ]
  },
  {
   "cell_type": "markdown",
   "id": "110d7f4e",
   "metadata": {},
   "source": [
    "### 5. Train_Test_Split \n",
    "\n",
    "Now we will create x_train, y_train, x_text, y_test for model selection and evaluation . \n",
    "\n",
    "we will be using train_test_split with the help of sklearn libraries"
   ]
  },
  {
   "cell_type": "code",
   "execution_count": 58,
   "id": "918c1e87",
   "metadata": {},
   "outputs": [
    {
     "data": {
      "text/plain": [
       "((7975, 3), (7975,), (1994, 3), (1994,))"
      ]
     },
     "execution_count": 58,
     "metadata": {},
     "output_type": "execute_result"
    }
   ],
   "source": [
    "# Split the data\n",
    "x_train, x_test, y_train, y_test = train_test_split(df[features], df['kwh'], test_size=0.2, random_state=42)\n",
    "# let's print the shapes\n",
    "x_train.shape, y_train.shape, x_test.shape, y_test.shape "
   ]
  },
  {
   "cell_type": "markdown",
   "id": "fdafd58a",
   "metadata": {},
   "source": [
    "## C.  Model Selection ----------------------------------------------"
   ]
  },
  {
   "cell_type": "code",
   "execution_count": 59,
   "id": "76f4ad99",
   "metadata": {},
   "outputs": [
    {
     "data": {
      "text/plain": [
       "LinearRegression()"
      ]
     },
     "execution_count": 59,
     "metadata": {},
     "output_type": "execute_result"
    }
   ],
   "source": [
    "# Build the model\n",
    "# This is a regression problrm so we will use Linear Regression\n",
    "model = LinearRegression()\n",
    "model.fit(x_train, y_train)"
   ]
  },
  {
   "cell_type": "markdown",
   "id": "2d4aab96",
   "metadata": {},
   "source": [
    "* Here we have taken 'temperatureC', 'humidity', 'dewpointC' as independent variables to train our model. \n",
    "\n",
    "\n",
    "* 'temperatureC' and 'dewpointC' has same linear_relationship with Kwh. To make our model more simpler we can remove any one."
   ]
  },
  {
   "cell_type": "markdown",
   "id": "1d44d974",
   "metadata": {},
   "source": [
    "## D. Model Evaluation ----------------------------------------------"
   ]
  },
  {
   "cell_type": "code",
   "execution_count": 60,
   "id": "9d1881e2",
   "metadata": {},
   "outputs": [
    {
     "name": "stdout",
     "output_type": "stream",
     "text": [
      "Mean Absolute Error: 0.6391151993247629\n",
      "R-squared: 0.4264862094023528\n",
      "        Feature   Coefficient\n",
      "0  temperatureC -2.773727e+06\n",
      "1      humidity -1.763793e+04\n",
      "2     dewpointC  2.767697e+06\n"
     ]
    }
   ],
   "source": [
    "# Evaluate performance\n",
    "y_pred = model.predict(x_test)\n",
    "\n",
    "print(f'Mean Absolute Error: {mean_absolute_error(y_test, y_pred)}')\n",
    "print(f'R-squared: {r2_score(y_test, y_pred)}')\n",
    "\n",
    "# Interpret coefficients\n",
    "coefficients = pd.DataFrame({'Feature': features, 'Coefficient': model.coef_})\n",
    "print(coefficients)"
   ]
  }
 ],
 "metadata": {
  "kernelspec": {
   "display_name": "Python 3 (ipykernel)",
   "language": "python",
   "name": "python3"
  },
  "language_info": {
   "codemirror_mode": {
    "name": "ipython",
    "version": 3
   },
   "file_extension": ".py",
   "mimetype": "text/x-python",
   "name": "python",
   "nbconvert_exporter": "python",
   "pygments_lexer": "ipython3",
   "version": "3.9.12"
  }
 },
 "nbformat": 4,
 "nbformat_minor": 5
}
